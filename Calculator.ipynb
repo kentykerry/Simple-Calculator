{
 "cells": [
  {
   "cell_type": "markdown",
   "id": "242bdd20",
   "metadata": {},
   "source": [
    "# Simple Calculator"
   ]
  },
  {
   "cell_type": "markdown",
   "id": "1e09d9b6",
   "metadata": {},
   "source": [
    "Create a calculator that takes in two numbers entered by a user and perform any of the following operation:\n",
    "i) Addition  ii) Subtraction  iii)Multiplication  iv)Division"
   ]
  },
  {
   "cell_type": "code",
   "execution_count": 4,
   "id": "a07ec6b0",
   "metadata": {},
   "outputs": [
    {
     "name": "stdout",
     "output_type": "stream",
     "text": [
      "Enter first number -->68\n",
      "Enter second number -->98\n",
      "\n",
      "Enter 1 to add \n",
      "Enter 2 to subtract \n",
      "Enter 3 to multiply \n",
      "Enter 4 to divide \n",
      "-->1\n",
      "166\n"
     ]
    }
   ],
   "source": [
    "num1 = int(input('Enter first number -->'))\n",
    "num2 = int(input('Enter second number -->'))\n",
    "\n",
    "req = input('\\nEnter 1 to add \\nEnter 2 to subtract \\nEnter 3 to multiply \\nEnter 4 to divide \\n-->')\n",
    "\n",
    "if req == '1':\n",
    "    print(num1 + num2)\n",
    "elif req == '2':\n",
    "    print(num2 - num1)\n",
    "elif req == '3':\n",
    "    print(num1 * num2)\n",
    "elif req == '4':\n",
    "    print(num2 / num1)\n",
    "else :\n",
    "    print('Invalid Command!')    "
   ]
  },
  {
   "cell_type": "code",
   "execution_count": 8,
   "id": "94897242",
   "metadata": {},
   "outputs": [
    {
     "name": "stdout",
     "output_type": "stream",
     "text": [
      "Enter first number -->68\n",
      "Enter second number -->98\n",
      "\n",
      "Enter 1 to add \n",
      "Enter 2 to subtract \n",
      "Enter 3 to multiply \n",
      "Enter 4 to divide \n",
      "-->5\n",
      "Invalid Command!\n"
     ]
    }
   ],
   "source": [
    "num1 = int(input('Enter first number -->'))\n",
    "num2 = int(input('Enter second number -->'))\n",
    "\n",
    "req = input('\\nEnter 1 to add \\nEnter 2 to subtract \\nEnter 3 to multiply \\nEnter 4 to divide \\n-->')\n",
    "\n",
    "if req == '1':\n",
    "    print(num1 + num2)\n",
    "elif req == '2':\n",
    "    print(num2 - num1)\n",
    "elif req == '3':\n",
    "    print(num1 * num2)\n",
    "elif req == '4':\n",
    "    print(num2 / num1)\n",
    "else :\n",
    "    print('Invalid Command!')    "
   ]
  },
  {
   "cell_type": "code",
   "execution_count": null,
   "id": "25258036",
   "metadata": {},
   "outputs": [],
   "source": []
  }
 ],
 "metadata": {
  "kernelspec": {
   "display_name": "Python 3 (ipykernel)",
   "language": "python",
   "name": "python3"
  },
  "language_info": {
   "codemirror_mode": {
    "name": "ipython",
    "version": 3
   },
   "file_extension": ".py",
   "mimetype": "text/x-python",
   "name": "python",
   "nbconvert_exporter": "python",
   "pygments_lexer": "ipython3",
   "version": "3.11.5"
  }
 },
 "nbformat": 4,
 "nbformat_minor": 5
}
